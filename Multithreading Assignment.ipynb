{
 "cells": [
  {
   "cell_type": "markdown",
   "id": "4c5cf116-6491-448c-9580-8f5961d7ca13",
   "metadata": {},
   "source": [
    "Q1.what is multithreading in python? why is it used? Name the module used to handle threads in python?"
   ]
  },
  {
   "cell_type": "markdown",
   "id": "a46776e6-9d18-470d-afd7-04b566dfc263",
   "metadata": {},
   "source": [
    "Multithreading in Python refers to the concurrent execution of multiple threads (smaller units of a process) within a single program. A thread is a lightweight process that shares the same memory space and resources but runs independently. Python's Global Interpreter Lock (GIL) has some limitations on the execution of multiple threads, which means that in certain scenarios, multithreading in Python may not provide as much parallelism as expected.\n",
    "\n",
    "Multithreading is used to achieve concurrent execution, allowing different parts of a program to run independently, potentially improving overall performance and responsiveness. It's particularly useful for tasks that can be executed concurrently, such as I/O-bound operations, where threads can be waiting for data to be read from or written to a file, a network socket, or a database.\n",
    "\n",
    "The threading module is commonly used to handle threads in Python. This module provides a way to create and manage threads, allowing you to spawn new threads, synchronize their execution, and coordinate their activities. The Thread class in the threading module is typically used to create and manage threads. Here's a simple "
   ]
  },
  {
   "cell_type": "code",
   "execution_count": 2,
   "id": "5f5bc61d-ec1c-4c59-b72d-20c24a32a64f",
   "metadata": {},
   "outputs": [
    {
     "name": "stdout",
     "output_type": "stream",
     "text": [
      "Hello from thread Thread-7 (my_function)\n",
      "Hello from thread Thread-7 (my_function)\n",
      "Hello from thread Thread-7 (my_function)\n",
      "Hello from thread Thread-7 (my_function)\n",
      "Hello from thread Thread-7 (my_function)\n",
      "Hello from thread Thread-8 (my_function)\n",
      "Hello from thread Thread-8 (my_function)\n",
      "Hello from thread Thread-8 (my_function)\n",
      "Hello from thread Thread-8 (my_function)\n",
      "Hello from thread Thread-8 (my_function)\n",
      "Both threads have finished.\n"
     ]
    }
   ],
   "source": [
    "import threading\n",
    "\n",
    "def my_function():\n",
    "    for _ in range(5):\n",
    "        print(\"Hello from thread {}\".format(threading.current_thread().name))\n",
    "\n",
    "thread1 = threading.Thread(target=my_function)\n",
    "thread2 = threading.Thread(target=my_function)\n",
    "\n",
    "thread1.start()\n",
    "thread2.start()\n",
    "\n",
    "thread1.join()\n",
    "thread2.join()\n",
    "\n",
    "print(\"Both threads have finished.\")"
   ]
  },
  {
   "cell_type": "markdown",
   "id": "824fd11e-6930-42b8-a674-2ae6f0f5a45a",
   "metadata": {},
   "source": [
    "Q2.Why threading module used? write the use of the following functions?\n",
    "\n",
    "1. activeCount()\n",
    "2. currentThread()\n",
    "3. enumerate()"
   ]
  },
  {
   "cell_type": "markdown",
   "id": "6bc16c75-9cad-400c-85b4-a111ce079f67",
   "metadata": {},
   "source": [
    "The threading module in Python is used for creating and managing threads in a program. It provides a way to create, start, and synchronize threads, allowing for concurrent execution. The module is particularly useful when dealing with tasks that can be performed independently and concurrently, such as I/O-bound operations.\n",
    "\n",
    "Here are explanations for the functions you mentioned in the threading module:\n",
    "\n",
    "1. activeCount():\n",
    "\n",
    "Use: This function returns the number of Thread objects currently alive."
   ]
  },
  {
   "cell_type": "code",
   "execution_count": 4,
   "id": "ebdad4d1-0417-406b-a2d2-0bf9a5b76ec4",
   "metadata": {},
   "outputs": [
    {
     "name": "stdout",
     "output_type": "stream",
     "text": [
      "Hello from thread Thread-9 (my_function)\n",
      "Hello from thread Thread-10 (my_function)\n",
      "Active threads: 8\n"
     ]
    }
   ],
   "source": [
    "import threading\n",
    "\n",
    "def my_function():\n",
    "    print(\"Hello from thread {}\".format(threading.current_thread().name))\n",
    "\n",
    "# Create and start two threads\n",
    "thread1 = threading.Thread(target=my_function)\n",
    "thread2 = threading.Thread(target=my_function)\n",
    "thread1.start()\n",
    "thread2.start()\n",
    "\n",
    "# Print the number of active threads\n",
    "print(\"Active threads: {}\".format(threading.active_count()))"
   ]
  },
  {
   "cell_type": "markdown",
   "id": "6a3c9730-7a7f-4447-a887-b7946ef87825",
   "metadata": {},
   "source": [
    "2. currentThread():\n",
    "Use: This function returns the current Thread object, corresponding to the caller's thread of control.\n",
    "Example:"
   ]
  },
  {
   "cell_type": "code",
   "execution_count": 5,
   "id": "0dc82682-5f60-4414-9612-ba0e73f8b41b",
   "metadata": {},
   "outputs": [
    {
     "name": "stdout",
     "output_type": "stream",
     "text": [
      "Hello from thread Thread-11 (my_function)\n"
     ]
    }
   ],
   "source": [
    "import threading\n",
    "\n",
    "def my_function():\n",
    "    current_thread = threading.current_thread()\n",
    "    print(\"Hello from thread {}\".format(current_thread.name))\n",
    "\n",
    "# Create and start a thread\n",
    "thread = threading.Thread(target=my_function)\n",
    "thread.start()"
   ]
  },
  {
   "cell_type": "markdown",
   "id": "d9ac7d18-1834-410f-b83b-2f34e4203ac1",
   "metadata": {},
   "source": [
    "3. enumerate():\n",
    "\n",
    "Use: This function returns a list of all Thread objects currently alive, including the main thread and daemon threads.\n",
    "Example:"
   ]
  },
  {
   "cell_type": "code",
   "execution_count": 6,
   "id": "4f85dfe7-2c30-4fe0-be16-b0d0d114e2e2",
   "metadata": {},
   "outputs": [
    {
     "name": "stdout",
     "output_type": "stream",
     "text": [
      "Hello from thread Thread-12 (my_function)\n",
      "Hello from thread Thread-13 (my_function)\n",
      "Thread name: MainThread, is daemon: False\n",
      "Thread name: IOPub, is daemon: True\n",
      "Thread name: Heartbeat, is daemon: True\n",
      "Thread name: Thread-3 (_watch_pipe_fd), is daemon: True\n",
      "Thread name: Thread-4 (_watch_pipe_fd), is daemon: True\n",
      "Thread name: Control, is daemon: True\n",
      "Thread name: IPythonHistorySavingThread, is daemon: True\n",
      "Thread name: Thread-2, is daemon: True\n"
     ]
    }
   ],
   "source": [
    "import threading\n",
    "import time\n",
    "\n",
    "def my_function():\n",
    "    time.sleep(2)\n",
    "    print(\"Hello from thread {}\".format(threading.current_thread().name))\n",
    "\n",
    "# Create and start two threads\n",
    "thread1 = threading.Thread(target=my_function)\n",
    "thread2 = threading.Thread(target=my_function)\n",
    "thread1.start()\n",
    "thread2.start()\n",
    "\n",
    "# Wait for both threads to finish\n",
    "thread1.join()\n",
    "thread2.join()\n",
    "\n",
    "# Print information about all active threads\n",
    "for thread in threading.enumerate():\n",
    "    print(\"Thread name: {}, is daemon: {}\".format(thread.name, thread.daemon))"
   ]
  },
  {
   "cell_type": "markdown",
   "id": "1dffb3f0-2e2c-4466-aa19-28d140394d35",
   "metadata": {},
   "source": [
    "Q3.Explain the following functions:-\n",
    "\n",
    "1.  run()\n",
    "2.  start()\n",
    "3.  join()\n",
    "4.  isAlive()"
   ]
  },
  {
   "cell_type": "markdown",
   "id": "b545a59f-ffcc-479a-9ae8-2deb9b8bd1f4",
   "metadata": {},
   "source": [
    "1. run():\n",
    "\n",
    "Use: This method represents the entry point of the thread's activity. You can override this method in a subclass to implement the specific behavior of the thread. When the start() method is called on a Thread object, it, in turn, calls the run() method on that thread.\n",
    "\n",
    "2. start():\n",
    "\n",
    "Use: This method starts the thread's activity. It initiates the run() method in a separate thread of control. Once a thread has been started, it cannot be started again.\n",
    "\n",
    "3. join([timeout]):\n",
    "\n",
    "Use: This method blocks the calling thread until the thread whose join() method is called completes, or until the specified timeout occurs. If the timeout is not specified, the calling thread will block indefinitely until the thread being joined completes its execution.\n",
    "\n",
    "\n",
    "4. isAlive():\n",
    "\n",
    "Use: This method returns True if the thread is still alive (i.e., has not yet terminated). It returns False otherwise. A thread is considered alive from the moment it is started until it completes its run method.\n",
    " "
   ]
  },
  {
   "cell_type": "markdown",
   "id": "c80f0189-ec34-41c5-8cab-e68a71bbbb4e",
   "metadata": {},
   "source": [
    "Q4. Write a python program to create two threads. Thread one must print the list of squares and thread \n",
    "two must print the list of cubes?"
   ]
  },
  {
   "cell_type": "code",
   "execution_count": 14,
   "id": "9ce16c01-232f-4ad6-890b-7c532adea30f",
   "metadata": {},
   "outputs": [
    {
     "name": "stdout",
     "output_type": "stream",
     "text": [
      "Square: 1\n",
      "Square: 4\n",
      "Square: 9\n",
      "Square: 16\n",
      "Square: 25\n",
      "Cube: 1\n",
      "Cube: 8\n",
      "Cube: 27\n",
      "Cube: 64\n",
      "Cube: 125\n",
      "Both threads have finished.\n"
     ]
    }
   ],
   "source": [
    "import threading\n",
    "\n",
    "def print_squares(numbers):\n",
    "    for number in numbers:\n",
    "        print(\"Square:\", number ** 2)\n",
    "\n",
    "def print_cubes(numbers):\n",
    "    for number in numbers:\n",
    "        print(\"Cube:\", number ** 3)\n",
    "\n",
    "if __name__ == \"__main__\":\n",
    "    # Define a list of numbers\n",
    "    numbers = [1, 2, 3, 4, 5]\n",
    "\n",
    "    thread_squares = threading.Thread(target=print_squares, args=(numbers,))\n",
    "    thread_cubes = threading.Thread(target=print_cubes, args=(numbers,))\n",
    "\n",
    "    thread_squares.start()\n",
    "    thread_cubes.start()\n",
    "\n",
    "    thread_squares.join()\n",
    "    thread_cubes.join()\n",
    "\n",
    "    print(\"Both threads have finished.\")"
   ]
  },
  {
   "cell_type": "markdown",
   "id": "acbb71da-9b6a-4743-b081-15caf7b437c6",
   "metadata": {},
   "source": [
    "Q5. State advantages and disadvantages of multithreading?"
   ]
  },
  {
   "cell_type": "markdown",
   "id": "db9da57a-d10a-4f0a-80ea-a916129cf1ff",
   "metadata": {},
   "source": [
    "Avantages of Multithreading:\n",
    "\n",
    "1. Improved Performance:\n",
    "\n",
    "Multithreading can lead to improved performance, especially in scenarios where tasks can be executed concurrently. This is particularly beneficial for applications that involve parallelizable operations, such as I/O-bound tasks.\n",
    "\n",
    "2. Responsiveness:\n",
    "\n",
    "Multithreading allows for responsive user interfaces. Background tasks or computations can be performed in separate threads, ensuring that the main thread (responsible for UI) remains responsive to user interactions.\n",
    "\n",
    "3. Resource Sharing:\n",
    "\n",
    "Threads within the same process share the same memory space, which simplifies communication and data sharing between threads. This can be more efficient than inter-process communication in multiprocessing.\n",
    "\n",
    "4. Resource Utilization:\n",
    "\n",
    "Multithreading can help in better utilization of resources, particularly in systems with multiple processors or cores. It enables parallel execution of tasks, making use of available processing power.\n",
    "\n",
    "5. Modularity:\n",
    "\n",
    "Multithreading allows for the creation of modular and maintainable code. Different components of a program can be implemented as separate threads, making the code structure more organized.\n"
   ]
  },
  {
   "cell_type": "markdown",
   "id": "865f3633-933d-412b-a072-c8f58fed95ec",
   "metadata": {},
   "source": [
    "Disadvantages of Multithreading:\n",
    "\n",
    "1. Complexity:\n",
    "\n",
    "Multithreading introduces complexity to the program, especially in terms of synchronization and coordination between threads. Managing shared resources and avoiding race conditions can be challenging.\n",
    "\n",
    "2. Difficult Debugging:\n",
    "\n",
    "Debugging multithreaded programs can be more difficult than single-threaded ones. Issues like deadlocks and race conditions may occur, and detecting and fixing these problems can be complex.\n",
    "\n",
    "3. Increased Overhead:\n",
    "\n",
    "Multithreading introduces some overhead, such as the cost of creating and managing threads, synchronization mechanisms, and context switching. In some cases, the overhead may outweigh the benefits, especially for simple tasks.\n",
    "\n",
    "4. Potential for Data Inconsistency:\n",
    "\n",
    "When multiple threads access and modify shared data concurrently, there is a risk of data inconsistency. Careful synchronization mechanisms are needed to ensure data integrity, which can add complexity to the code.\n",
    "\n",
    "5. Difficulty in Reproducing Bugs:\n",
    "\n",
    "Multithreading issues may not manifest consistently, making it difficult to reproduce and debug certain types of bugs. These issues may depend on the timing and interleaving of thread execution.\n",
    "\n",
    "6. Global Interpreter Lock (GIL) in Python:\n",
    "\n",
    "In the case of Python, the Global Interpreter Lock (GIL) can limit the effectiveness of multithreading for CPU-bound tasks, as it allows only one thread to execute Python bytecode at a time. This can impact the parallelism achievable in certain scenarios.\n"
   ]
  },
  {
   "cell_type": "markdown",
   "id": "fdf88bad-62b1-4cbf-b896-00c473fd8691",
   "metadata": {},
   "source": [
    "Q6.Explain deadlocks and race conditions."
   ]
  },
  {
   "cell_type": "markdown",
   "id": "039ed7c1-b7b8-4211-82e8-34865b0ec036",
   "metadata": {},
   "source": [
    "Deadlock:\n",
    "\n",
    "A deadlock is a situation in computing where two or more processes are unable to proceed because each is waiting for the other to release a resource. In other words, a set of processes is in a deadlock state when each process is holding a resource and waiting for another resource acquired by some other process. As a result, none of the processes can proceed, and the system as a whole comes to a standstill.\n",
    "\n",
    "Deadlocks typically involve a circular waiting condition, where each process in the set is waiting for a resource held by another process in the set. The four necessary conditions for a deadlock to occur are:\n",
    "\n",
    "1.Mutual Exclusion: At least one resource must be held in a non-sharable mode.\n",
    "\n",
    "2.Hold and Wait: A process must be holding at least one resource and waiting for resources acquired by other processes.\n",
    "\n",
    "3.No Preemption: Resources cannot be forcibly taken away from the process holding them; they must be released voluntarily.\n",
    "\n",
    "4.Circular Wait: A circular chain of two or more processes exists, where each process is waiting for a resource held by the next process in the chain."
   ]
  },
  {
   "cell_type": "code",
   "execution_count": null,
   "id": "9c89e77a-da19-45af-86ad-81d87b65d7e5",
   "metadata": {},
   "outputs": [],
   "source": []
  }
 ],
 "metadata": {
  "kernelspec": {
   "display_name": "Python 3 (ipykernel)",
   "language": "python",
   "name": "python3"
  },
  "language_info": {
   "codemirror_mode": {
    "name": "ipython",
    "version": 3
   },
   "file_extension": ".py",
   "mimetype": "text/x-python",
   "name": "python",
   "nbconvert_exporter": "python",
   "pygments_lexer": "ipython3",
   "version": "3.10.8"
  }
 },
 "nbformat": 4,
 "nbformat_minor": 5
}
